{
 "cells": [
  {
   "cell_type": "markdown",
   "metadata": {},
   "source": [
    "<h2>PYTHON BASICS</h2>\n",
    "\n",
    "Python Notebook:\n",
    "1. Google colab -> free GPU, zero configuration(Cloud)\n",
    "2. Anaconda -> Jupyter notebook(local)\n",
    "3. Miniconda"
   ]
  },
  {
   "cell_type": "markdown",
   "metadata": {},
   "source": [
    "NUMPY: \n",
    "\n",
    "It is fundamental package for scientific computing with python.\n",
    "<ol type = '1'>\n",
    "<li> Powerful N-Dimensional array object.</li>\n",
    "<li> Sophisticated(Broadcasting functions).</li>\n",
    "<li> tools for integrating c/c++ and fortran.</li>\n",
    "<li> linear algebra, fourier transform and random number capabilities.</li>\n",
    "    <ol>"
   ]
  },
  {
   "cell_type": "code",
   "execution_count": 15,
   "metadata": {},
   "outputs": [
    {
     "name": "stdout",
     "output_type": "stream",
     "text": [
      "('Array after multiplication by 10 ', '[100, 200, 300, 400, 500]')\n",
      "[100, 200, 300, 400, 500]\n"
     ]
    }
   ],
   "source": [
    "#Normal List in Python\n",
    "a_py = [10,20,30,40,50]\n",
    "\n",
    "arr = []\n",
    "for i in a_py:\n",
    "    arr.append(i * 10)\n",
    "print(\"Array after multiplication by 10 \",str(arr))\n",
    "\n",
    "#[i*10 for i in a_py]\n",
    "\n",
    "print(list(map(lambda i: i*10 ,a_py)))"
   ]
  },
  {
   "cell_type": "code",
   "execution_count": 20,
   "metadata": {},
   "outputs": [
    {
     "name": "stdout",
     "output_type": "stream",
     "text": [
      "<type 'numpy.ndarray'>\n",
      "[100 200 300 400 500]\n",
      "[1. 3. 6.]\n"
     ]
    }
   ],
   "source": [
    "# using Numpy\n",
    "import numpy as np\n",
    "b_np = np.array([10,20,30,40,50])\n",
    "print(type(b_np))                                #numpy.ndarray\n",
    "\n",
    "print(b_np*10)\n",
    "#Much better operation and smaller memory footprints\n",
    "#Trade Off : Numpy array contains only one data type\n",
    "\n",
    "#Implicit Upcasting\n",
    "c_np = np.array([1,3.0,6])\n",
    "print(c_np)"
   ]
  },
  {
   "cell_type": "markdown",
   "metadata": {},
   "source": [
    "<h2>SERIES : </h2>\n",
    "<ol type = \"1\">\n",
    "<li> A sequence of values with associated labeled.</li>\n",
    "<li> Unlike Numpy ndarray, pandas series support mixed data dtypes.</li>\n",
    "<li> Series are indexed from 0 to 1. (RangeIndex)\n",
    "<li> List, dictionary,etc can be converted to series.</li>\n",
    "<li> Storage is just like Numpy -> Float data type are 64bits(8byte) and Strings are Object(Pointers)</li><ol>"
   ]
  },
  {
   "cell_type": "code",
   "execution_count": 2,
   "metadata": {},
   "outputs": [
    {
     "data": {
      "text/plain": [
       "0    Shaurya\n",
       "1        Joy\n",
       "2       Alex\n",
       "3      Kayli\n",
       "dtype: object"
      ]
     },
     "execution_count": 2,
     "metadata": {},
     "output_type": "execute_result"
    }
   ],
   "source": [
    "import pandas as pd\n",
    "string_series = ['Shaurya','Joy','Alex','Kayli']\n",
    "pd.Series(string_series)"
   ]
  },
  {
   "cell_type": "code",
   "execution_count": 24,
   "metadata": {},
   "outputs": [
    {
     "data": {
      "text/plain": [
       "True"
      ]
     },
     "execution_count": 24,
     "metadata": {},
     "output_type": "execute_result"
    }
   ],
   "source": [
    "lst = ['one','two']\n",
    "dic = {0:'one',1:'two'}\n",
    "\n",
    "lst_series = pd.Series(data = lst) #data is a parameter and lst is the argument\n",
    "dic_series = pd.Series(dic)\n",
    "lst_series.equals(dic_series)      #quals is a Method"
   ]
  },
  {
   "cell_type": "code",
   "execution_count": 11,
   "metadata": {},
   "outputs": [
    {
     "data": {
      "text/plain": [
       "True"
      ]
     },
     "execution_count": 11,
     "metadata": {},
     "output_type": "execute_result"
    }
   ],
   "source": [
    "import numpy as np\n",
    "arr = np.array(['one','two'])\n",
    "arr_series = pd.Series(arr)\n",
    "lst_series.equals(arr_series)"
   ]
  },
  {
   "cell_type": "code",
   "execution_count": 26,
   "metadata": {},
   "outputs": [
    {
     "name": "stdout",
     "output_type": "stream",
     "text": [
      "0    2.0\n",
      "1    4.0\n",
      "dtype: float64\n"
     ]
    }
   ],
   "source": [
    "lst_series = pd.Series(data = [2,4], dtype = float)  #dtype is an attribute and name is also an attribute\n",
    "print(lst_series)"
   ]
  },
  {
   "cell_type": "code",
   "execution_count": 19,
   "metadata": {},
   "outputs": [
    {
     "name": "stdout",
     "output_type": "stream",
     "text": [
      "FName        Shaurya\n",
      "LName          Rawat\n",
      "Company    Cognizant\n",
      "dtype: object\n",
      "Index([u'FName', u'LName', u'Company'], dtype='object')\n"
     ]
    }
   ],
   "source": [
    "labeled_data = pd.Series(data = ['Shaurya','Rawat','Cognizant'],index = ['FName','LName','Company'])\n",
    "print(labeled_data)\n",
    "print(labeled_data.index)"
   ]
  },
  {
   "cell_type": "code",
   "execution_count": 23,
   "metadata": {},
   "outputs": [
    {
     "data": {
      "text/plain": [
       "[4, 5, 6]"
      ]
     },
     "execution_count": 23,
     "metadata": {},
     "output_type": "execute_result"
    }
   ],
   "source": [
    "list(pd.RangeIndex(start = 4,stop = 7, step = 1))"
   ]
  },
  {
   "cell_type": "code",
   "execution_count": 30,
   "metadata": {},
   "outputs": [],
   "source": [
    "labeled_data.name = 'Personal data'\n",
    "labeled_data.index.name = 'Attributes for data'"
   ]
  },
  {
   "cell_type": "code",
   "execution_count": 31,
   "metadata": {},
   "outputs": [
    {
     "data": {
      "text/plain": [
       "Attributes for data\n",
       "FName        Shaurya\n",
       "LName          Rawat\n",
       "Company    Cognizant\n",
       "Name: Personal data, dtype: object"
      ]
     },
     "execution_count": 31,
     "metadata": {},
     "output_type": "execute_result"
    }
   ],
   "source": [
    "labeled_data"
   ]
  },
  {
   "cell_type": "code",
   "execution_count": 34,
   "metadata": {},
   "outputs": [
    {
     "data": {
      "text/plain": [
       "[('Shaurya', 'Name'), ('Cognizant', 'Company')]"
      ]
     },
     "execution_count": 34,
     "metadata": {},
     "output_type": "execute_result"
    }
   ],
   "source": [
    "#Python Zip method\n",
    "zip(['Shaurya','Cognizant'],['Name','Company']) #gives list of tuples"
   ]
  },
  {
   "cell_type": "code",
   "execution_count": 36,
   "metadata": {},
   "outputs": [
    {
     "data": {
      "text/plain": [
       "{'Cognizant': 'Company', 'Shaurya': 'Name'}"
      ]
     },
     "execution_count": 36,
     "metadata": {},
     "output_type": "execute_result"
    }
   ],
   "source": [
    "dict(zip(['Shaurya','Cognizant'],['Name','Company']))"
   ]
  },
  {
   "cell_type": "code",
   "execution_count": 37,
   "metadata": {},
   "outputs": [
    {
     "data": {
      "text/plain": [
       "Cognizant    Company\n",
       "Shaurya         Name\n",
       "dtype: object"
      ]
     },
     "execution_count": 37,
     "metadata": {},
     "output_type": "execute_result"
    }
   ],
   "source": [
    "pd.Series(dict(zip(['Shaurya','Cognizant'],['Name','Company'])))"
   ]
  },
  {
   "cell_type": "code",
   "execution_count": 43,
   "metadata": {},
   "outputs": [
    {
     "data": {
      "text/plain": [
       "{'Harry': 28, 'Leo': 48}"
      ]
     },
     "execution_count": 43,
     "metadata": {},
     "output_type": "execute_result"
    }
   ],
   "source": [
    "{Actor:Age for Actor,Age in zip(['Harry','Leo'],[28,48])} #Tuples converted to dictionary"
   ]
  },
  {
   "cell_type": "markdown",
   "metadata": {},
   "source": [
    "<h3>Series methods</h3>\n",
    "<ol type = \"1\"><li>head</li>\n",
    "<li>tail</li>\n",
    "<li>size</li></ol>"
   ]
  },
  {
   "cell_type": "code",
   "execution_count": 47,
   "metadata": {},
   "outputs": [
    {
     "data": {
      "text/plain": [
       "0    0\n",
       "1    1\n",
       "2    2\n",
       "3    3\n",
       "4    4\n",
       "dtype: int64"
      ]
     },
     "execution_count": 47,
     "metadata": {},
     "output_type": "execute_result"
    }
   ],
   "source": [
    "int_series = pd.Series([i for i in range(5)])\n",
    "int_series"
   ]
  },
  {
   "cell_type": "code",
   "execution_count": 50,
   "metadata": {},
   "outputs": [
    {
     "data": {
      "text/plain": [
       "0    0\n",
       "1    1\n",
       "2    2\n",
       "dtype: int64"
      ]
     },
     "execution_count": 50,
     "metadata": {},
     "output_type": "execute_result"
    }
   ],
   "source": [
    "pd.Series(range(3))"
   ]
  },
  {
   "cell_type": "code",
   "execution_count": 51,
   "metadata": {},
   "outputs": [
    {
     "data": {
      "text/plain": [
       "0    0\n",
       "dtype: int64"
      ]
     },
     "execution_count": 51,
     "metadata": {},
     "output_type": "execute_result"
    }
   ],
   "source": [
    "int_series.head(1)"
   ]
  },
  {
   "cell_type": "code",
   "execution_count": 52,
   "metadata": {},
   "outputs": [
    {
     "data": {
      "text/plain": [
       "3    3\n",
       "4    4\n",
       "dtype: int64"
      ]
     },
     "execution_count": 52,
     "metadata": {},
     "output_type": "execute_result"
    }
   ],
   "source": [
    "int_series.tail(2)"
   ]
  },
  {
   "cell_type": "code",
   "execution_count": 54,
   "metadata": {},
   "outputs": [
    {
     "data": {
      "text/plain": [
       "5"
      ]
     },
     "execution_count": 54,
     "metadata": {},
     "output_type": "execute_result"
    }
   ],
   "source": [
    "int_series.size"
   ]
  },
  {
   "cell_type": "markdown",
   "metadata": {},
   "source": [
    "Extract by Index position"
   ]
  },
  {
   "cell_type": "code",
   "execution_count": 65,
   "metadata": {},
   "outputs": [
    {
     "data": {
      "text/plain": [
       "'abcdefghijklmnopqrstuvwxyz'"
      ]
     },
     "execution_count": 65,
     "metadata": {},
     "output_type": "execute_result"
    }
   ],
   "source": [
    "from string import ascii_lowercase\n",
    "from string import ascii_uppercase\n",
    "ascii_lowercase"
   ]
  },
  {
   "cell_type": "code",
   "execution_count": 87,
   "metadata": {},
   "outputs": [
    {
     "data": {
      "text/plain": [
       "26"
      ]
     },
     "execution_count": 87,
     "metadata": {},
     "output_type": "execute_result"
    }
   ],
   "source": [
    "alphabet_series = pd.Series(data = list(ascii_lowercase),index = map(lambda x : 'label_' + x, list(ascii_uppercase))) #anonymous lambda function\n",
    "len(alphabet_series)"
   ]
  },
  {
   "cell_type": "code",
   "execution_count": 88,
   "metadata": {},
   "outputs": [
    {
     "data": {
      "text/plain": [
       "'e'"
      ]
     },
     "execution_count": 88,
     "metadata": {},
     "output_type": "execute_result"
    }
   ],
   "source": [
    "alphabet_series[4]"
   ]
  },
  {
   "cell_type": "code",
   "execution_count": 89,
   "metadata": {},
   "outputs": [
    {
     "data": {
      "text/plain": [
       "label_Y    y\n",
       "label_Z    z\n",
       "dtype: object"
      ]
     },
     "execution_count": 89,
     "metadata": {},
     "output_type": "execute_result"
    }
   ],
   "source": [
    "alphabet_series[-2:]"
   ]
  },
  {
   "cell_type": "code",
   "execution_count": 90,
   "metadata": {},
   "outputs": [
    {
     "data": {
      "text/plain": [
       "alp_label_A    a\n",
       "alp_label_B    b\n",
       "dtype: object"
      ]
     },
     "execution_count": 90,
     "metadata": {},
     "output_type": "execute_result"
    }
   ],
   "source": [
    "alphabet_series = alphabet_series.add_prefix('alp_')\n",
    "alphabet_series[0:2]"
   ]
  },
  {
   "cell_type": "code",
   "execution_count": 91,
   "metadata": {},
   "outputs": [],
   "source": [
    "alphabet_series = alphabet_series.add_suffix('_key')"
   ]
  },
  {
   "cell_type": "code",
   "execution_count": 94,
   "metadata": {},
   "outputs": [
    {
     "name": "stdout",
     "output_type": "stream",
     "text": [
      "alp_label_Y_key    y\n",
      "alp_label_Z_key    z\n",
      "dtype: object\n",
      "The letter in this label is b\n"
     ]
    }
   ],
   "source": [
    "print(alphabet_series[-2:])\n",
    "print(\"The letter in this label is \" +alphabet_series.alp_label_B_key)"
   ]
  },
  {
   "cell_type": "markdown",
   "metadata": {},
   "source": [
    "<h3>Boolean Masks and .loc Indexer</h3>\n",
    "<li> Boolean masks are used to index select items at scale and work with [] and.loc, need to be same length as series</li>\n",
    "<li>loc is the typical way to do labeled based extraction</li>\n",
    "<li>loc means location, indexing by labels</li>"
   ]
  },
  {
   "cell_type": "code",
   "execution_count": 96,
   "metadata": {},
   "outputs": [
    {
     "data": {
      "text/plain": [
       "alp_label_A_key    a\n",
       "alp_label_B_key    b\n",
       "alp_label_C_key    c\n",
       "dtype: object"
      ]
     },
     "execution_count": 96,
     "metadata": {},
     "output_type": "execute_result"
    }
   ],
   "source": [
    "alphabet_series.loc[\"alp_label_A_key\": \"alp_label_C_key\"]"
   ]
  },
  {
   "cell_type": "code",
   "execution_count": 103,
   "metadata": {},
   "outputs": [],
   "source": [
    "book_series = pd.Series(data = ['Python Basics','Hello','Into the wild'],index=['Programming','Literature','Novel'], name = 'Books')"
   ]
  },
  {
   "cell_type": "code",
   "execution_count": 107,
   "metadata": {},
   "outputs": [
    {
     "data": {
      "text/plain": [
       "Programming    Python Basics\n",
       "Novel          Into the wild\n",
       "Name: Books, dtype: object"
      ]
     },
     "execution_count": 107,
     "metadata": {},
     "output_type": "execute_result"
    }
   ],
   "source": [
    "book_series.loc[[True,False,True]] #list inside list"
   ]
  },
  {
   "cell_type": "code",
   "execution_count": 111,
   "metadata": {},
   "outputs": [
    {
     "data": {
      "text/plain": [
       "alp_label_M_key    m\n",
       "alp_label_Z_key    z\n",
       "dtype: object"
      ]
     },
     "execution_count": 111,
     "metadata": {},
     "output_type": "execute_result"
    }
   ],
   "source": [
    "alphabet_series.loc[[True if (i+1)%13 == 0 else False for i in range(alphabet_series.size)]] #extracting every 13th letter"
   ]
  },
  {
   "cell_type": "markdown",
   "metadata": {},
   "source": [
    "<h3>Extracting with Position with iloc</h3>\n",
    "<li>iloc means Integer location, indexing by Position</li>"
   ]
  },
  {
   "cell_type": "code",
   "execution_count": 112,
   "metadata": {},
   "outputs": [
    {
     "data": {
      "text/plain": [
       "'a'"
      ]
     },
     "execution_count": 112,
     "metadata": {},
     "output_type": "execute_result"
    }
   ],
   "source": [
    "alphabet_series.iloc[0]"
   ]
  },
  {
   "cell_type": "code",
   "execution_count": 113,
   "metadata": {},
   "outputs": [
    {
     "data": {
      "text/plain": [
       "alp_label_D_key    d\n",
       "alp_label_G_key    g\n",
       "dtype: object"
      ]
     },
     "execution_count": 113,
     "metadata": {},
     "output_type": "execute_result"
    }
   ],
   "source": [
    "alphabet_series.iloc[[3,6]]"
   ]
  },
  {
   "cell_type": "code",
   "execution_count": 114,
   "metadata": {},
   "outputs": [
    {
     "data": {
      "text/plain": [
       "alp_label_A_key    a\n",
       "alp_label_B_key    b\n",
       "dtype: object"
      ]
     },
     "execution_count": 114,
     "metadata": {},
     "output_type": "execute_result"
    }
   ],
   "source": [
    "alphabet_series.iloc[0:2]"
   ]
  },
  {
   "cell_type": "markdown",
   "metadata": {},
   "source": [
    "<h3>Indexing with Callables</h3>\n",
    "<li>Used for highly customizable indexing</li>"
   ]
  },
  {
   "cell_type": "code",
   "execution_count": 115,
   "metadata": {},
   "outputs": [
    {
     "data": {
      "text/plain": [
       "'a'"
      ]
     },
     "execution_count": 115,
     "metadata": {},
     "output_type": "execute_result"
    }
   ],
   "source": [
    "alphabet_series.loc[lambda x: 'alp_label_A_key']"
   ]
  },
  {
   "cell_type": "code",
   "execution_count": 116,
   "metadata": {},
   "outputs": [
    {
     "data": {
      "text/plain": [
       "alp_label_A_key    a\n",
       "alp_label_Z_key    z\n",
       "dtype: object"
      ]
     },
     "execution_count": 116,
     "metadata": {},
     "output_type": "execute_result"
    }
   ],
   "source": [
    "alphabet_series.loc[lambda x: ['alp_label_A_key','alp_label_Z_key']]"
   ]
  },
  {
   "cell_type": "code",
   "execution_count": 121,
   "metadata": {},
   "outputs": [
    {
     "data": {
      "text/plain": [
       "alp_label_E_key    e\n",
       "alp_label_J_key    j\n",
       "alp_label_O_key    o\n",
       "alp_label_T_key    t\n",
       "alp_label_Y_key    y\n",
       "dtype: object"
      ]
     },
     "execution_count": 121,
     "metadata": {},
     "output_type": "execute_result"
    }
   ],
   "source": [
    "alphabet_series.loc[lambda x: [True if (i+1)%5 == 0 else False for i in range(alphabet_series.size)]] #every fifth element"
   ]
  },
  {
   "cell_type": "code",
   "execution_count": 124,
   "metadata": {},
   "outputs": [],
   "source": [
    "def fifth_element(x):\n",
    "    return [True if (i+1)%5 == 0 else False for i in range(x.size)]"
   ]
  },
  {
   "cell_type": "code",
   "execution_count": 125,
   "metadata": {},
   "outputs": [
    {
     "data": {
      "text/plain": [
       "alp_label_E_key    e\n",
       "alp_label_J_key    j\n",
       "alp_label_O_key    o\n",
       "alp_label_T_key    t\n",
       "alp_label_Y_key    y\n",
       "dtype: object"
      ]
     },
     "execution_count": 125,
     "metadata": {},
     "output_type": "execute_result"
    }
   ],
   "source": [
    "alphabet_series.loc[fifth_element]"
   ]
  },
  {
   "cell_type": "code",
   "execution_count": 132,
   "metadata": {},
   "outputs": [
    {
     "name": "stdout",
     "output_type": "stream",
     "text": [
      "Accessing the element using label : s\n",
      "Accessing the element using position : f\n",
      "Error handling mechanism in get method : Could not find by label\n"
     ]
    }
   ],
   "source": [
    "#selection using get method\n",
    "print(\"Accessing the element using label : \"+alphabet_series.get('alp_label_S_key'))\n",
    "print(\"Accessing the element using position : \" +alphabet_series.get(5))\n",
    "print(\"Error handling mechanism in get method : \"+alphabet_series.get('NonExistentKey',default = 'Could not find by label'))\n",
    "#default is None"
   ]
  },
  {
   "cell_type": "markdown",
   "metadata": {},
   "source": [
    "<h4>Skill Challenge</h4>\n",
    "<li>Q1. Create a series of length 100 containing sqaures of integer 0 to 99 and assign to variable squares</li>\n",
    "<li>Q2. Assess the last 3 items from square series using square braket indexing</li>\n",
    "<li>Q3. Repeat Q2 using tail method</li>\n",
    "<li>Q4. Verify output of Q2 and Q3 using .equals comparison</li>"
   ]
  },
  {
   "cell_type": "code",
   "execution_count": 157,
   "metadata": {},
   "outputs": [],
   "source": [
    "squares = pd.Series(data = [i**2 for i in range(100)], name = 'Squares of number')"
   ]
  },
  {
   "cell_type": "code",
   "execution_count": 158,
   "metadata": {},
   "outputs": [],
   "source": [
    "squares_bckt_ind = squares[-3:]"
   ]
  },
  {
   "cell_type": "code",
   "execution_count": 161,
   "metadata": {},
   "outputs": [],
   "source": [
    "squares_tail = squares.tail(n = 3)"
   ]
  },
  {
   "cell_type": "code",
   "execution_count": 162,
   "metadata": {},
   "outputs": [
    {
     "data": {
      "text/plain": [
       "True"
      ]
     },
     "execution_count": 162,
     "metadata": {},
     "output_type": "execute_result"
    }
   ],
   "source": [
    "squares_bckt_ind.equals(squares_tail)"
   ]
  },
  {
   "cell_type": "code",
   "execution_count": 163,
   "metadata": {},
   "outputs": [
    {
     "data": {
      "text/plain": [
       "97    True\n",
       "98    True\n",
       "99    True\n",
       "Name: Squares of number, dtype: bool"
      ]
     },
     "execution_count": 163,
     "metadata": {},
     "output_type": "execute_result"
    }
   ],
   "source": [
    "squares_bckt_ind == squares_tail"
   ]
  },
  {
   "cell_type": "code",
   "execution_count": null,
   "metadata": {},
   "outputs": [],
   "source": []
  }
 ],
 "metadata": {
  "kernelspec": {
   "display_name": "Python 2",
   "language": "python",
   "name": "python2"
  },
  "language_info": {
   "codemirror_mode": {
    "name": "ipython",
    "version": 2
   },
   "file_extension": ".py",
   "mimetype": "text/x-python",
   "name": "python",
   "nbconvert_exporter": "python",
   "pygments_lexer": "ipython2",
   "version": "2.7.15"
  }
 },
 "nbformat": 4,
 "nbformat_minor": 2
}
